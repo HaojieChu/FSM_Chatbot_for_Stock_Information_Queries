{
 "cells": [
  {
   "cell_type": "code",
   "execution_count": null,
   "metadata": {},
   "outputs": [],
   "source": [
    "# Import necessary modules from RASA\n",
    "from rasa_nlu.training_data import load_data\n",
    "from rasa_nlu.config import RasaNLUModelConfig\n",
    "from rasa_nlu.model import Trainer\n",
    "from rasa_nlu import config"
   ]
  },
  {
   "cell_type": "code",
   "execution_count": null,
   "metadata": {},
   "outputs": [],
   "source": [
    "# Create a trainer that uses this config\n",
    "trainer = Trainer(config.load(\"config_spacy.yml\"))\n",
    "\n",
    "# Load the training data\n",
    "training_data = load_data(\"stock-data.json\")\n",
    "\n",
    "# Create an interpreter by training the model\n",
    "interpreter = trainer.train(training_data)"
   ]
  },
  {
   "cell_type": "code",
   "execution_count": null,
   "metadata": {},
   "outputs": [],
   "source": [
    "# Only for testing\n",
    "# message = \"And what about the open price of Facebook on 2019-03-05\"\n",
    "# data = interpreter.parse(message)\n",
    "# data"
   ]
  },
  {
   "cell_type": "code",
   "execution_count": null,
   "metadata": {},
   "outputs": [],
   "source": [
    "'''\n",
    "import spacy\n",
    "nlp = spacy.load('en_core_web_md')\n",
    "## Using spaCy's entity recogniser\n",
    "\n",
    "# Define included entities\n",
    "datedic = [\"DATE\"]\n",
    "\n",
    "# Define extract_entities()\n",
    "def extract_date(message):\n",
    "    # Create a dict to hold the entities\n",
    "    ents = dict.fromkeys(datedic)\n",
    "    # Create a spacy document\n",
    "    doc = nlp(message)\n",
    "    for ent in doc.ents:\n",
    "        if ent.label_ in datedic:\n",
    "            # Save interesting entities\n",
    "            date = ent.text\n",
    "    date = date.replace(\"-\",\"\")\n",
    "    return date\n",
    "print(extract_date(\"Tell me the open price of Alibaba on 2018-04-01\"))\n",
    "'''"
   ]
  },
  {
   "cell_type": "code",
   "execution_count": null,
   "metadata": {},
   "outputs": [],
   "source": [
    "# Import necessary modules from iexfinance\n",
    "from iexfinance.stocks import Stock, get_historical_intraday\n",
    "from datetime import datetime"
   ]
  },
  {
   "cell_type": "code",
   "execution_count": null,
   "metadata": {},
   "outputs": [],
   "source": [
    "def intent_extraction(message):\n",
    "    return interpreter.parse(message)[\"intent\"][\"name\"]\n",
    "\n",
    "def entity_extraction(message):\n",
    "    entities = interpreter.parse(message)[\"entities\"]\n",
    "    parameters = {}\n",
    "    for ent in entities:\n",
    "        parameters[ent[\"entity\"]] = str(ent[\"value\"])\n",
    "    return parameters"
   ]
  },
  {
   "cell_type": "code",
   "execution_count": null,
   "metadata": {},
   "outputs": [],
   "source": [
    "def current_price(parameters):\n",
    "    return Stock(parameters[\"company\"], token=\"sk_da231175d2cb425bbf943b1946966cfb\").get_price()\n",
    "\n",
    "def open_price(parameters):\n",
    "    date = datetime(int(parameters[\"year\"]),int(parameters[\"month\"]),int(parameters[\"day\"]))\n",
    "    op = get_historical_intraday(parameters[\"company\"], date, output_format='pandas', token=\"sk_da231175d2cb425bbf943b1946966cfb\")[\"open\"][0]\n",
    "    return op\n",
    "\n",
    "def close_price(parameters):\n",
    "    date = datetime(int(parameters[\"year\"]),int(parameters[\"month\"]),int(parameters[\"day\"]))\n",
    "    cp = get_historical_intraday(parameters[\"company\"], date, output_format='pandas', token=\"sk_da231175d2cb425bbf943b1946966cfb\")[\"close\"][0]\n",
    "    return cp;\n",
    "\n",
    "def volume(parameters):\n",
    "    date = datetime(int(parameters[\"year\"]),int(parameters[\"month\"]),int(parameters[\"day\"]))\n",
    "    vl = get_historical_intraday(parameters[\"company\"], date, output_format='pandas', token=\"sk_da231175d2cb425bbf943b1946966cfb\")[\"volume\"][0]\n",
    "    return vl;"
   ]
  },
  {
   "cell_type": "code",
   "execution_count": null,
   "metadata": {},
   "outputs": [],
   "source": [
    "# Define the states\n",
    "INIT = 0 \n",
    "FUNC = 1\n",
    "CURRENT_PRICE = 2\n",
    "HISTORY_DATA_open = 3\n",
    "HISTORY_DATA_close = 4\n",
    "HISTORY_DATA_volume = 5\n",
    "END = 6"
   ]
  },
  {
   "cell_type": "code",
   "execution_count": null,
   "metadata": {},
   "outputs": [],
   "source": [
    "# Define the potential responses\n",
    "responses = [\n",
    "        \"Welcome! My name is Coco and I can share stock information with you.\",\n",
    "        \"I can tell you: \\n  1) The current price\\n  2) The historical data:\\n        1. the open/close price\\n        2. the volume\",\n",
    "        \"Got it! The current price of {} is {}.\",\n",
    "        \"U wanna know the open price! It's {}.\",\n",
    "        \"The close price on that day was {}.\",\n",
    "        \"On that day, the volume was {}.\",\n",
    "        \"You are always welcome, my lord/lady!\",\n",
    "        \"Au Revoir! My friend @_@\",\n",
    "        \"Thank you for your using!^_^\"\n",
    "        ]"
   ]
  },
  {
   "cell_type": "code",
   "execution_count": null,
   "metadata": {},
   "outputs": [],
   "source": [
    "import random\n",
    "\n",
    "# Define the policy rules\n",
    "policy_rules = {\n",
    "    (INIT, \"greet\"): (FUNC, responses[0]),\n",
    "    (FUNC, \"greet\"): (FUNC, responses[0]),\n",
    "    (FUNC, \"intro\"): (FUNC, responses[1]),\n",
    "    \n",
    "    (FUNC, \"current_price\"): (CURRENT_PRICE, responses[2]),\n",
    "    # Able to show current price for multiple-time queries\n",
    "    (CURRENT_PRICE, \"current_price\"): (CURRENT_PRICE, responses[2]),\n",
    "    (CURRENT_PRICE, \"history_data_open\"): (HISTORY_DATA_open, responses[3]),\n",
    "    (CURRENT_PRICE, \"history_data_close\"): (HISTORY_DATA_close, responses[4]),\n",
    "    (CURRENT_PRICE, \"history_data_volume\"): (HISTORY_DATA_volume, responses[5]),\n",
    "    \n",
    "    (FUNC, \"history_data_open\"): (HISTORY_DATA_open, responses[3]),\n",
    "    (FUNC, \"history_data_close\"): (HISTORY_DATA_close, responses[4]),\n",
    "    (FUNC, \"history_data_volume\"): (HISTORY_DATA_volume, responses[5]),\n",
    "    \n",
    "    (HISTORY_DATA_open, \"history_data_close\"): (HISTORY_DATA_close, responses[4]),\n",
    "    (HISTORY_DATA_open, \"history_data_volume\"): (HISTORY_DATA_volume, responses[5]),\n",
    "    (HISTORY_DATA_close, \"history_data_open\"): (HISTORY_DATA_open, responses[3]),\n",
    "    (HISTORY_DATA_close, \"history_data_volume\"): (HISTORY_DATA_volume, responses[5]),\n",
    "    (HISTORY_DATA_volume, \"history_data_open\"): (HISTORY_DATA_open, responses[3]),\n",
    "    (HISTORY_DATA_volume, \"history_data_close\"): (HISTORY_DATA_close, responses[4]),\n",
    "    \n",
    "    # Random choose the sentences for ending\n",
    "    (CURRENT_PRICE,\"end\"):(FUNC, random.choice([responses[6], responses[7], responses[8]])),\n",
    "    (HISTORY_DATA_open,\"end\"):(FUNC, random.choice([responses[6], responses[7], responses[8]])),\n",
    "    (HISTORY_DATA_close,\"end\"):(FUNC, random.choice([responses[6], responses[7], responses[8]])),\n",
    "    (HISTORY_DATA_volume,\"end\"):(FUNC, random.choice([responses[6], responses[7], responses[8]])),\n",
    "    (FUNC, \"end\"):(FUNC, random.choice([responses[6], responses[7], responses[8]]))\n",
    "}"
   ]
  },
  {
   "cell_type": "code",
   "execution_count": null,
   "metadata": {},
   "outputs": [],
   "source": [
    "def respond(policy_rules, state, message):\n",
    "    \n",
    "    entities = entity_extraction(message)\n",
    "    \n",
    "    if intent_extraction(message) == \"greet\":\n",
    "        newstate = policy_rules[(state,intent_extraction(message))][0]\n",
    "        response = policy_rules[(state,intent_extraction(message))][1]\n",
    "    if intent_extraction(message) == \"intro\":\n",
    "        newstate = policy_rules[(state,intent_extraction(message))][0]\n",
    "        response = policy_rules[(state,intent_extraction(message))][1]\n",
    "    if intent_extraction(message) == \"current_price\":\n",
    "        newstate = policy_rules[(state,intent_extraction(message))][0]\n",
    "        response = policy_rules[(state,intent_extraction(message))][1].format(entities[\"company\"],current_price(entities))\n",
    "    if intent_extraction(message) == \"history_data_open\":\n",
    "        newstate = policy_rules[(state,intent_extraction(message))][0]\n",
    "        response = policy_rules[(state,intent_extraction(message))][1].format(open_price(entities))    \n",
    "    if intent_extraction(message) == \"history_data_close\":\n",
    "        newstate = policy_rules[(state,intent_extraction(message))][0]\n",
    "        response = policy_rules[(state,intent_extraction(message))][1].format(close_price(entities))       \n",
    "    if intent_extraction(message) == \"history_data_volume\":\n",
    "        newstate = policy_rules[(state,intent_extraction(message))][0]\n",
    "        response = policy_rules[(state,intent_extraction(message))][1].format(volume(entities))       \n",
    "    if intent_extraction(message) == \"end\":\n",
    "        newstate = policy_rules[(state,intent_extraction(message))][0]\n",
    "        response = policy_rules[(state, intent_extraction(message))][1]\n",
    "        \n",
    "    return newstate, response"
   ]
  },
  {
   "cell_type": "code",
   "execution_count": null,
   "metadata": {},
   "outputs": [],
   "source": [
    "def send_message(policy_rules, state, message):\n",
    "    print(\"USER : {}\".format(message))\n",
    "    new_state, response = respond(policy_rules, state, message)\n",
    "    print(\"BOT : {}\".format(response))\n",
    "    return new_state, response"
   ]
  },
  {
   "cell_type": "code",
   "execution_count": null,
   "metadata": {},
   "outputs": [],
   "source": [
    "def send_messages(messages):\n",
    "    state = INIT\n",
    "    for msg in messages:\n",
    "        state, response = send_message(policy_rules, state, msg)"
   ]
  },
  {
   "cell_type": "code",
   "execution_count": null,
   "metadata": {},
   "outputs": [],
   "source": [
    "# Only for testing\n",
    "'''\n",
    "send_messages(\n",
    "    [\n",
    "        \"Hi\",\n",
    "        \"What can you do?\",\n",
    "        \"Could you please tell me the current price of Nike?\",\n",
    "        \"And what about the open price of Facebook on 2019-03-05\",\n",
    "        \"Please show me the close price of Alibaba on 2019-03-06\",\n",
    "        \"Now show the volume of Apple on 2019-03-07\",\n",
    "        \"Thanks, bye\",\n",
    "        \"Oh! I forgot, please show me the current price of Facebook\",\n",
    "        \"Farewell\"\n",
    "    ]\n",
    ")\n",
    "'''"
   ]
  },
  {
   "cell_type": "code",
   "execution_count": null,
   "metadata": {},
   "outputs": [],
   "source": [
    "# Import the necessary wechat module\n",
    "from wxpy import *\n",
    "\n",
    "# Initialize the Bot\n",
    "bot = Bot()\n",
    "\n",
    "# Search the specified Wechat account\n",
    "my_friend = bot.friends().search('Stockbot Coco')[0]\n",
    "\n",
    "# Reply messages from my_friend Stockbot Coco\n",
    "@bot.register(my_friend, TEXT)\n",
    "def reply_message(message):\n",
    "    # my_friend.send('Received: {} ({})'.format(message.text, message.type))\n",
    "    msg=message.text\n",
    "    state = FUNC\n",
    "    state, response = send_message(policy_rules, state, msg)\n",
    "    my_friend.send(response)"
   ]
  }
 ],
 "metadata": {
  "kernelspec": {
   "display_name": "Python 3",
   "language": "python",
   "name": "python3"
  },
  "language_info": {
   "codemirror_mode": {
    "name": "ipython",
    "version": 3
   },
   "file_extension": ".py",
   "mimetype": "text/x-python",
   "name": "python",
   "nbconvert_exporter": "python",
   "pygments_lexer": "ipython3",
   "version": "3.7.3"
  }
 },
 "nbformat": 4,
 "nbformat_minor": 2
}
